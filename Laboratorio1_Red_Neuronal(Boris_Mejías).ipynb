{
  "cells": [
    {
      "cell_type": "markdown",
      "metadata": {
        "id": "view-in-github",
        "colab_type": "text"
      },
      "source": [
        "<a href=\"https://colab.research.google.com/github/BorisMejiasII/NeuralNetworksII/blob/main/Laboratorio1_Red_Neuronal(Boris_Mej%C3%ADas).ipynb\" target=\"_parent\"><img src=\"https://colab.research.google.com/assets/colab-badge.svg\" alt=\"Open In Colab\"/></a>"
      ]
    },
    {
      "cell_type": "markdown",
      "id": "0e566d1d",
      "metadata": {
        "id": "0e566d1d"
      },
      "source": [
        "\n",
        "# Laboratorio: Red Neuronal con MNIST  \n",
        "**Curso:** Machine Learning  \n",
        "**Total puntos:** 10\n",
        "\n",
        "**Objetivo:** Implementar una red neuronal simple para clasificar dígitos escritos a mano del conjunto de datos MNIST utilizando Python y Keras.\n"
      ]
    },
    {
      "cell_type": "markdown",
      "id": "d6ff2177",
      "metadata": {
        "id": "d6ff2177"
      },
      "source": [
        "\n",
        "## Paso 1: Cargar el conjunto de datos MNIST (1 punto)\n",
        "\n",
        "Ejecuta el siguiente bloque para descargar y explorar el conjunto de datos.\n"
      ]
    },
    {
      "cell_type": "code",
      "execution_count": 8,
      "id": "7c659575",
      "metadata": {
        "colab": {
          "base_uri": "https://localhost:8080/"
        },
        "id": "7c659575",
        "outputId": "738b166a-535c-489c-acd0-086eeb29ca97"
      },
      "outputs": [
        {
          "output_type": "stream",
          "name": "stdout",
          "text": [
            "Tamaño del set de entrenamiento: (60000, 28, 28)\n",
            "Tamaño del set de test: (10000, 28, 28)\n"
          ]
        }
      ],
      "source": [
        "#Realizando imports de tensoflow\n",
        "from tensorflow.keras.datasets import mnist\n",
        "\n",
        "# Cargar datos\n",
        "(x_train, y_train), (x_test, y_test) = mnist.load_data()\n",
        "\n",
        "print(\"Tamaño del set de entrenamiento:\", x_train.shape)\n",
        "print(\"Tamaño del set de test:\", x_test.shape)\n"
      ]
    },
    {
      "cell_type": "markdown",
      "id": "8c2895d0",
      "metadata": {
        "id": "8c2895d0"
      },
      "source": [
        "\n",
        "## Paso 2: Visualizar ejemplos del dataset (1 punto)\n",
        "\n",
        "✏️ **Slot para completar:** Visualiza al menos 5 imágenes con sus etiquetas utilizando `matplotlib.pyplot.imshow()`.\n"
      ]
    },
    {
      "cell_type": "code",
      "execution_count": 9,
      "id": "1fab1a72",
      "metadata": {
        "colab": {
          "base_uri": "https://localhost:8080/",
          "height": 219
        },
        "id": "1fab1a72",
        "outputId": "83f1e30f-8c15-4f4d-9ece-c5486d54acb8"
      },
      "outputs": [
        {
          "output_type": "display_data",
          "data": {
            "text/plain": [
              "<Figure size 1200x300 with 5 Axes>"
            ],
            "image/png": "[encoded data removed]"
          },
          "metadata": {}
        }
      ],
      "source": [
        "import matplotlib.pyplot as plt\n",
        "\n",
        "# COMPLETA AQUÍ: Visualización de imágenes con sus etiquetas\n",
        "fig, axes = plt.subplots(1, 5, figsize=(12, 3))\n",
        "for i, ax in enumerate(axes):\n",
        "    ax.imshow(x_train[i], cmap='gray')\n",
        "    ax.set_title(f\"Etiqueta: {y_train[i]}\")\n",
        "    ax.axis('off')\n",
        "plt.show()\n"
      ]
    },
    {
      "cell_type": "markdown",
      "id": "9e5bc3a8",
      "metadata": {
        "id": "9e5bc3a8"
      },
      "source": [
        "\n",
        "## Paso 3: Preprocesamiento (1 punto)\n",
        "\n",
        "✏️ **Slot para completar:**\n",
        "- Normaliza las imágenes (divide por 255.0).\n",
        "- Aplana cada imagen a un vector de 784 valores.\n",
        "- Codifica las etiquetas con `to_categorical`.\n"
      ]
    },
    {
      "cell_type": "code",
      "execution_count": 11,
      "id": "40757ea1",
      "metadata": {
        "id": "40757ea1"
      },
      "outputs": [],
      "source": [
        "from tensorflow.keras.utils import to_categorical\n",
        "\n",
        "# COMPLETA AQUÍ: Normalización, flattening y codificación one-hot\n",
        "# 1) Normalizar\n",
        "x_train = x_train.astype('float32') / 255.0\n",
        "x_test  = x_test.astype('float32') / 255.0\n",
        "\n",
        "# 2) flattering\n",
        "x_train = x_train.reshape(-1, 28*28)\n",
        "x_test  = x_test.reshape(-1, 28*28)\n",
        "\n",
        "# 3) One-hot encoding\n",
        "y_train = to_categorical(y_train, num_classes=10)\n",
        "y_test  = to_categorical(y_test, num_classes=10)\n",
        "\n"
      ]
    },
    {
      "cell_type": "markdown",
      "id": "36e5006d",
      "metadata": {
        "id": "36e5006d"
      },
      "source": [
        "\n",
        "## Paso 4: Definir la red neuronal (2 puntos)\n",
        "\n",
        "✏️ **Slot para completar:**\n",
        "- Crea un modelo `Sequential`.\n",
        "- Agrega una capa oculta con activación ReLU.\n",
        "- Agrega una capa de salida con activación Softmax.\n",
        "- Compila el modelo con `adam` y `categorical_crossentropy`.\n"
      ]
    },
    {
      "cell_type": "code",
      "execution_count": 5,
      "id": "9256bacd",
      "metadata": {
        "colab": {
          "base_uri": "https://localhost:8080/",
          "height": 193
        },
        "id": "9256bacd",
        "outputId": "df6067b3-6d61-4ad7-ca4d-d74387c70636"
      },
      "outputs": [
        {
          "output_type": "display_data",
          "data": {
            "text/plain": [
              "\u001b[1mModel: \"sequential_1\"\u001b[0m\n"
            ],
            "text/html": [
              "<pre style=\"white-space:pre;overflow-x:auto;line-height:normal;font-family:Menlo,'DejaVu Sans Mono',consolas,'Courier New',monospace\"><span style=\"font-weight: bold\">Model: \"sequential_1\"</span>\n",
              "</pre>\n"
            ]
          },
          "metadata": {}
        },
        {
          "output_type": "display_data",
          "data": {
            "text/plain": [
              "┏━━━━━━━━━━━━━━━━━━━━━━━━━━━━━━━━━┳━━━━━━━━━━━━━━━━━━━━━━━━┳━━━━━━━━━━━━━━━┓\n",
              "┃\u001b[1m \u001b[0m\u001b[1mLayer (type)                   \u001b[0m\u001b[1m \u001b[0m┃\u001b[1m \u001b[0m\u001b[1mOutput Shape          \u001b[0m\u001b[1m \u001b[0m┃\u001b[1m \u001b[0m\u001b[1m      Param #\u001b[0m\u001b[1m \u001b[0m┃\n",
              "┡━━━━━━━━━━━━━━━━━━━━━━━━━━━━━━━━━╇━━━━━━━━━━━━━━━━━━━━━━━━╇━━━━━━━━━━━━━━━┩\n",
              "│ dense_2 (\u001b[38;5;33mDense\u001b[0m)                 │ (\u001b[38;5;45mNone\u001b[0m, \u001b[38;5;34m128\u001b[0m)            │       \u001b[38;5;34m100,480\u001b[0m │\n",
              "├─────────────────────────────────┼────────────────────────┼───────────────┤\n",
              "│ dense_3 (\u001b[38;5;33mDense\u001b[0m)                 │ (\u001b[38;5;45mNone\u001b[0m, \u001b[38;5;34m10\u001b[0m)             │         \u001b[38;5;34m1,290\u001b[0m │\n",
              "└─────────────────────────────────┴────────────────────────┴───────────────┘\n"
            ],
            "text/html": [
              "<pre style=\"white-space:pre;overflow-x:auto;line-height:normal;font-family:Menlo,'DejaVu Sans Mono',consolas,'Courier New',monospace\">┏━━━━━━━━━━━━━━━━━━━━━━━━━━━━━━━━━┳━━━━━━━━━━━━━━━━━━━━━━━━┳━━━━━━━━━━━━━━━┓\n",
              "┃<span style=\"font-weight: bold\"> Layer (type)                    </span>┃<span style=\"font-weight: bold\"> Output Shape           </span>┃<span style=\"font-weight: bold\">       Param # </span>┃\n",
              "┡━━━━━━━━━━━━━━━━━━━━━━━━━━━━━━━━━╇━━━━━━━━━━━━━━━━━━━━━━━━╇━━━━━━━━━━━━━━━┩\n",
              "│ dense_2 (<span style=\"color: #0087ff; text-decoration-color: #0087ff\">Dense</span>)                 │ (<span style=\"color: #00d7ff; text-decoration-color: #00d7ff\">None</span>, <span style=\"color: #00af00; text-decoration-color: #00af00\">128</span>)            │       <span style=\"color: #00af00; text-decoration-color: #00af00\">100,480</span> │\n",
              "├─────────────────────────────────┼────────────────────────┼───────────────┤\n",
              "│ dense_3 (<span style=\"color: #0087ff; text-decoration-color: #0087ff\">Dense</span>)                 │ (<span style=\"color: #00d7ff; text-decoration-color: #00d7ff\">None</span>, <span style=\"color: #00af00; text-decoration-color: #00af00\">10</span>)             │         <span style=\"color: #00af00; text-decoration-color: #00af00\">1,290</span> │\n",
              "└─────────────────────────────────┴────────────────────────┴───────────────┘\n",
              "</pre>\n"
            ]
          },
          "metadata": {}
        },
        {
          "output_type": "display_data",
          "data": {
            "text/plain": [
              "\u001b[1m Total params: \u001b[0m\u001b[38;5;34m101,770\u001b[0m (397.54 KB)\n"
            ],
            "text/html": [
              "<pre style=\"white-space:pre;overflow-x:auto;line-height:normal;font-family:Menlo,'DejaVu Sans Mono',consolas,'Courier New',monospace\"><span style=\"font-weight: bold\"> Total params: </span><span style=\"color: #00af00; text-decoration-color: #00af00\">101,770</span> (397.54 KB)\n",
              "</pre>\n"
            ]
          },
          "metadata": {}
        },
        {
          "output_type": "display_data",
          "data": {
            "text/plain": [
              "\u001b[1m Trainable params: \u001b[0m\u001b[38;5;34m101,770\u001b[0m (397.54 KB)\n"
            ],
            "text/html": [
              "<pre style=\"white-space:pre;overflow-x:auto;line-height:normal;font-family:Menlo,'DejaVu Sans Mono',consolas,'Courier New',monospace\"><span style=\"font-weight: bold\"> Trainable params: </span><span style=\"color: #00af00; text-decoration-color: #00af00\">101,770</span> (397.54 KB)\n",
              "</pre>\n"
            ]
          },
          "metadata": {}
        },
        {
          "output_type": "display_data",
          "data": {
            "text/plain": [
              "\u001b[1m Non-trainable params: \u001b[0m\u001b[38;5;34m0\u001b[0m (0.00 B)\n"
            ],
            "text/html": [
              "<pre style=\"white-space:pre;overflow-x:auto;line-height:normal;font-family:Menlo,'DejaVu Sans Mono',consolas,'Courier New',monospace\"><span style=\"font-weight: bold\"> Non-trainable params: </span><span style=\"color: #00af00; text-decoration-color: #00af00\">0</span> (0.00 B)\n",
              "</pre>\n"
            ]
          },
          "metadata": {}
        }
      ],
      "source": [
        "from tensorflow.keras.models import Sequential\n",
        "from tensorflow.keras.layers import Dense\n",
        "\n",
        "# COMPLETA AQUÍ: Definición y compilación del modelo\n",
        "model = Sequential([\n",
        "    Dense(128, activation='relu', input_shape=(784,)),  # capa oculta con de 128 neuronas\n",
        "    Dense(10, activation='softmax')                     # capa de salida con solo 10 clases (Números)\n",
        "])\n",
        "\n",
        "model.compile(optimizer='adam',\n",
        "              loss='categorical_crossentropy',\n",
        "              metrics=['accuracy'])\n",
        "\n",
        "model.summary()"
      ]
    },
    {
      "cell_type": "markdown",
      "id": "32fa8560",
      "metadata": {
        "id": "32fa8560"
      },
      "source": [
        "\n",
        "## Paso 5: Entrenar el modelo (1 punto)\n",
        "\n",
        "✏️ **Slot para completar:** Entrena el modelo con `fit` durante 5 épocas y batch size 32.\n"
      ]
    },
    {
      "cell_type": "code",
      "execution_count": 6,
      "id": "df8023c2",
      "metadata": {
        "colab": {
          "base_uri": "https://localhost:8080/"
        },
        "id": "df8023c2",
        "outputId": "f6e9613e-9a9b-42c1-fa7a-f49e6e2d4459"
      },
      "outputs": [
        {
          "output_type": "stream",
          "name": "stdout",
          "text": [
            "Epoch 1/5\n",
            "1688/1688 - 8s - 5ms/step - accuracy: 0.9215 - loss: 0.2731 - val_accuracy: 0.9653 - val_loss: 0.1223\n",
            "Epoch 2/5\n",
            "1688/1688 - 9s - 6ms/step - accuracy: 0.9631 - loss: 0.1238 - val_accuracy: 0.9728 - val_loss: 0.0914\n",
            "Epoch 3/5\n",
            "1688/1688 - 7s - 4ms/step - accuracy: 0.9746 - loss: 0.0844 - val_accuracy: 0.9727 - val_loss: 0.0927\n",
            "Epoch 4/5\n",
            "1688/1688 - 10s - 6ms/step - accuracy: 0.9810 - loss: 0.0634 - val_accuracy: 0.9765 - val_loss: 0.0796\n",
            "Epoch 5/5\n",
            "1688/1688 - 9s - 5ms/step - accuracy: 0.9860 - loss: 0.0474 - val_accuracy: 0.9760 - val_loss: 0.0794\n"
          ]
        }
      ],
      "source": [
        "# COMPLETA AQUÍ: Entrenamiento del modelo\n",
        "history = model.fit(\n",
        "    x_train, y_train,\n",
        "    epochs=5,\n",
        "    batch_size=32,\n",
        "    validation_split=0.1,\n",
        "    verbose=2\n",
        ")"
      ]
    },
    {
      "cell_type": "markdown",
      "id": "abd4ea81",
      "metadata": {
        "id": "abd4ea81"
      },
      "source": [
        "\n",
        "## Paso 6: Evaluar el modelo (1 punto)\n",
        "\n",
        "✏️ **Slot para completar:** Evalúa el modelo con `evaluate()` en el conjunto de prueba.\n"
      ]
    },
    {
      "cell_type": "code",
      "execution_count": 7,
      "id": "fed31d1c",
      "metadata": {
        "colab": {
          "base_uri": "https://localhost:8080/"
        },
        "id": "fed31d1c",
        "outputId": "688edff3-33bd-4e30-d8ba-0cc367d6b706"
      },
      "outputs": [
        {
          "output_type": "stream",
          "name": "stdout",
          "text": [
            "Precisión en test: 0.9721, Pérdida en test: 0.0882\n"
          ]
        }
      ],
      "source": [
        "# COMPLETA AQUÍ: Evaluación del modelo\n",
        "test_loss, test_acc = model.evaluate(x_test, y_test, verbose=0)\n",
        "print(f\"Precisión en test: {test_acc:.4f}, Pérdida en test: {test_loss:.4f}\")"
      ]
    },
    {
      "cell_type": "markdown",
      "id": "7b5a1fd0",
      "metadata": {
        "id": "7b5a1fd0"
      },
      "source": [
        "## Preguntas de Reflexión (3 puntos en total)"
      ]
    },
    {
      "cell_type": "markdown",
      "id": "7455c9fb",
      "metadata": {
        "id": "7455c9fb"
      },
      "source": [
        "### 1. ¿Qué ventaja observas al usar codificación one-hot para las etiquetas? (0.5 punto)"
      ]
    },
    {
      "cell_type": "code",
      "execution_count": null,
      "id": "d7940958",
      "metadata": {
        "id": "d7940958"
      },
      "outputs": [],
      "source": [
        "# La codificación one-hot permite representar las categorías de manera que la salida de la red pueda interpretarse fácilmente como probabilidades mutuamente\n",
        "# exclusivas — cada vector tiene un ‘1’ en la posición de la clase correcta y ‘0’ en las demás — lo que facilita el uso de la función de pérdida +\n",
        "# categorical_crossentropy y evita ordinalidades artificiales."
      ]
    },
    {
      "cell_type": "markdown",
      "id": "dbd9f5f9",
      "metadata": {
        "id": "dbd9f5f9"
      },
      "source": [
        "### 2. ¿Qué ocurre si aumentas o disminuyes el número de neuronas ocultas? (0.5 punto)"
      ]
    },
    {
      "cell_type": "code",
      "execution_count": null,
      "id": "998b05b8",
      "metadata": {
        "id": "998b05b8"
      },
      "outputs": [],
      "source": [
        "# Aumentar neuronas suele incrementar la capacidad del modelo para aprender patrones complejos, reduciendo el sesgo pero con riesgo de sobreajuste si hay\n",
        "# demasiados parámetros.\n",
        "\n",
        "# Disminuir neuronas puede mejorar la capacidad de generalización (menos sobreajuste) pero puede provocar subajuste si no hay suficiente capacidad#\n",
        "# para capturar la complejidad de los datos."
      ]
    },
    {
      "cell_type": "markdown",
      "id": "2a1bf432",
      "metadata": {
        "id": "2a1bf432"
      },
      "source": [
        "### 3. ¿Qué alternativa propondrías al optimizador `adam` y por qué? (0.5 punto)"
      ]
    },
    {
      "cell_type": "code",
      "execution_count": null,
      "id": "d57b11e7",
      "metadata": {
        "id": "d57b11e7"
      },
      "outputs": [],
      "source": [
        "# Una buena alternativa es SGD con momentum. Aunque converge más lento que Adam, en algunos casos ofrece mejor generalización y menos tendencia a quedarse en\n",
        "# mínimos locales. También podrías probar RMSprop, que adapta las tasas de aprendizaje por parámetro de manera similar a Adam."
      ]
    },
    {
      "cell_type": "markdown",
      "id": "c56b32ea",
      "metadata": {
        "id": "c56b32ea"
      },
      "source": [
        "### 4. ¿Cómo cambia el desempeño si entrenas más épocas? ¿Cuál es el riesgo? (0.5 punto)"
      ]
    },
    {
      "cell_type": "code",
      "execution_count": null,
      "id": "424e5803",
      "metadata": {
        "id": "424e5803"
      },
      "outputs": [],
      "source": [
        "# Mejora inicial: más épocas suelen bajar la pérdida y subir la precisión hasta cierto punto.\n",
        "\n",
        "# Riesgo: tras cierto número de épocas, el modelo comienza a sobreajustarse al set de entrenamiento y empeora en el set de prueba (aumento de la brecha entre entrenamiento y validación)."
      ]
    },
    {
      "cell_type": "markdown",
      "id": "d79eea4a",
      "metadata": {
        "id": "d79eea4a"
      },
      "source": [
        "### 5. ¿Por qué es importante dividir en conjuntos de entrenamiento y prueba? (1 punto)"
      ]
    },
    {
      "cell_type": "code",
      "execution_count": null,
      "id": "7e37c659",
      "metadata": {
        "id": "7e37c659"
      },
      "outputs": [],
      "source": [
        "# Separar datos en entrenamiento y prueba permite medir de manera objetiva la capacidad de generalización del modelo: se entrena con un subconjunto y\n",
        "# se evalúa en datos nunca vistos. Sin esta división, no sabríamos si el modelo ha aprendido patrones reales o simplemente memorizó los ejemplos de\n",
        "# entrenamiento."
      ]
    }
  ],
  "metadata": {
    "colab": {
      "provenance": [],
      "include_colab_link": true
    },
    "language_info": {
      "name": "python"
    },
    "kernelspec": {
      "name": "python3",
      "display_name": "Python 3"
    }
  },
  "nbformat": 4,
  "nbformat_minor": 5
}